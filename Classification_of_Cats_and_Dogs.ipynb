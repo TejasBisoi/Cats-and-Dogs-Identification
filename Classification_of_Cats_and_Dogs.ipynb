{
  "cells": [
    {
      "cell_type": "code",
      "execution_count": null,
      "id": "e459b4fa",
      "metadata": {
        "id": "e459b4fa"
      },
      "outputs": [],
      "source": [
        "import tensorflow as tf\n",
        "\n",
        "# Import ImageDataGenerator from tensorflow.keras\n",
        "from tensorflow.keras.preprocessing.image import ImageDataGenerator"
      ]
    },
    {
      "cell_type": "code",
      "execution_count": null,
      "id": "38330ea3",
      "metadata": {
        "id": "38330ea3"
      },
      "outputs": [],
      "source": [
        "train_datagen=ImageDataGenerator(rescale=1./255, shear_range=0.2, zoom_range=0.2, horizontal_flip=True)"
      ]
    },
    {
      "cell_type": "code",
      "execution_count": null,
      "id": "7bc9cd5c",
      "metadata": {
        "id": "7bc9cd5c",
        "outputId": "ba0065ce-1608-45c6-894e-d1f9edf05aa8"
      },
      "outputs": [
        {
          "name": "stdout",
          "output_type": "stream",
          "text": [
            "Found 557 images belonging to 2 classes.\n"
          ]
        }
      ],
      "source": [
        "training_set=train_datagen.flow_from_directory(\"E:\\\\PROJECT\\\\dataset_cats&dogs\\\\train\",\n",
        "                                                target_size=(64,64),\n",
        "                                                batch_size=32,\n",
        "                                                class_mode='binary')"
      ]
    },
    {
      "cell_type": "code",
      "execution_count": null,
      "id": "ff679852",
      "metadata": {
        "id": "ff679852",
        "outputId": "ff8d6bd2-2fb8-474d-a404-181c2c86f3b8"
      },
      "outputs": [
        {
          "name": "stdout",
          "output_type": "stream",
          "text": [
            "Found 140 images belonging to 2 classes.\n"
          ]
        }
      ],
      "source": [
        "test_datagen=ImageDataGenerator(rescale=1./255, shear_range=0.2, zoom_range=0.2, horizontal_flip=True)\n",
        "test_set=train_datagen.flow_from_directory(\"E:\\\\PROJECT\\\\dataset_cats&dogs\\\\test\",\n",
        "                                                target_size=(64,64),\n",
        "                                                batch_size=32,\n",
        "                                                class_mode='binary')"
      ]
    },
    {
      "cell_type": "code",
      "execution_count": null,
      "id": "c4c01cea",
      "metadata": {
        "id": "c4c01cea"
      },
      "outputs": [],
      "source": [
        "cnn=tf.keras.models.Sequential()"
      ]
    },
    {
      "cell_type": "code",
      "execution_count": null,
      "id": "d0dd844c",
      "metadata": {
        "id": "d0dd844c"
      },
      "outputs": [],
      "source": [
        "cnn.add(tf.keras.layers.Conv2D(filters=32,kernel_size=3,activation='relu',input_shape=[64,64,3]))"
      ]
    },
    {
      "cell_type": "code",
      "execution_count": null,
      "id": "fb9647aa",
      "metadata": {
        "id": "fb9647aa"
      },
      "outputs": [],
      "source": [
        "cnn.add(tf.keras.layers.MaxPool2D(pool_size=2, strides=2))"
      ]
    },
    {
      "cell_type": "markdown",
      "id": "02ae1263",
      "metadata": {
        "id": "02ae1263"
      },
      "source": [
        "#adding a 2nd layer"
      ]
    },
    {
      "cell_type": "code",
      "execution_count": null,
      "id": "0db108c0",
      "metadata": {
        "id": "0db108c0"
      },
      "outputs": [],
      "source": [
        "cnn.add(tf.keras.layers.Conv2D(filters=32,kernel_size=3,activation='relu'))\n",
        "cnn.add(tf.keras.layers.MaxPool2D(pool_size=2, strides=2))"
      ]
    },
    {
      "cell_type": "code",
      "execution_count": null,
      "id": "4d295abb",
      "metadata": {
        "id": "4d295abb"
      },
      "outputs": [],
      "source": [
        "#IMage Flattening\n",
        "cnn.add(tf.keras.layers.Flatten())"
      ]
    },
    {
      "cell_type": "code",
      "execution_count": null,
      "id": "d89505e5",
      "metadata": {
        "id": "d89505e5"
      },
      "outputs": [],
      "source": [
        "#Full Connection\n",
        "cnn.add(tf.keras.layers.Dense(units=128,activation='relu'))"
      ]
    },
    {
      "cell_type": "code",
      "execution_count": null,
      "id": "cd601943",
      "metadata": {
        "id": "cd601943"
      },
      "outputs": [],
      "source": [
        "#Output Layers\n",
        "cnn.add(tf.keras.layers.Dense(units=1,activation='sigmoid'))"
      ]
    },
    {
      "cell_type": "code",
      "execution_count": null,
      "id": "b85319bc",
      "metadata": {
        "id": "b85319bc"
      },
      "outputs": [],
      "source": [
        "#Compilation\n",
        "cnn.compile(optimizer='adam',loss='binary_crossentropy',metrics=['accuracy'])\n"
      ]
    },
    {
      "cell_type": "code",
      "execution_count": null,
      "id": "347195f7",
      "metadata": {
        "id": "347195f7",
        "outputId": "53f2e130-eccf-44c5-c560-3733fc16021e"
      },
      "outputs": [
        {
          "name": "stdout",
          "output_type": "stream",
          "text": [
            "Epoch 1/24\n",
            "18/18 [==============================] - 7s 405ms/step - loss: 0.3631 - accuracy: 0.8402 - val_loss: 0.6851 - val_accuracy: 0.6500\n",
            "Epoch 2/24\n",
            "18/18 [==============================] - 7s 374ms/step - loss: 0.3224 - accuracy: 0.8725 - val_loss: 0.7543 - val_accuracy: 0.6643\n",
            "Epoch 3/24\n",
            "18/18 [==============================] - 7s 386ms/step - loss: 0.3135 - accuracy: 0.8707 - val_loss: 0.7622 - val_accuracy: 0.6429\n",
            "Epoch 4/24\n",
            "18/18 [==============================] - 7s 388ms/step - loss: 0.3064 - accuracy: 0.8654 - val_loss: 0.7055 - val_accuracy: 0.6857\n",
            "Epoch 5/24\n",
            "18/18 [==============================] - 7s 385ms/step - loss: 0.2809 - accuracy: 0.8851 - val_loss: 0.8430 - val_accuracy: 0.6929\n",
            "Epoch 6/24\n",
            "18/18 [==============================] - 7s 370ms/step - loss: 0.2908 - accuracy: 0.8725 - val_loss: 0.7482 - val_accuracy: 0.7143\n",
            "Epoch 7/24\n",
            "18/18 [==============================] - 7s 367ms/step - loss: 0.3041 - accuracy: 0.8779 - val_loss: 0.7702 - val_accuracy: 0.7000\n",
            "Epoch 8/24\n",
            "18/18 [==============================] - 7s 369ms/step - loss: 0.2794 - accuracy: 0.8905 - val_loss: 0.7858 - val_accuracy: 0.6286\n",
            "Epoch 9/24\n",
            "18/18 [==============================] - 7s 371ms/step - loss: 0.2367 - accuracy: 0.9066 - val_loss: 0.8343 - val_accuracy: 0.6714\n",
            "Epoch 10/24\n",
            "18/18 [==============================] - 7s 368ms/step - loss: 0.2222 - accuracy: 0.9084 - val_loss: 0.7267 - val_accuracy: 0.7071\n",
            "Epoch 11/24\n",
            "18/18 [==============================] - 7s 377ms/step - loss: 0.2303 - accuracy: 0.9138 - val_loss: 0.9431 - val_accuracy: 0.6786\n",
            "Epoch 12/24\n",
            "18/18 [==============================] - 7s 368ms/step - loss: 0.2196 - accuracy: 0.9138 - val_loss: 0.7524 - val_accuracy: 0.6857\n",
            "Epoch 13/24\n",
            "18/18 [==============================] - 7s 370ms/step - loss: 0.2037 - accuracy: 0.9102 - val_loss: 0.8409 - val_accuracy: 0.7429\n",
            "Epoch 14/24\n",
            "18/18 [==============================] - 7s 374ms/step - loss: 0.1904 - accuracy: 0.9264 - val_loss: 0.8658 - val_accuracy: 0.6929\n",
            "Epoch 15/24\n",
            "18/18 [==============================] - 7s 406ms/step - loss: 0.2349 - accuracy: 0.8941 - val_loss: 0.8462 - val_accuracy: 0.6500\n",
            "Epoch 16/24\n",
            "18/18 [==============================] - 7s 370ms/step - loss: 0.1777 - accuracy: 0.9336 - val_loss: 1.0747 - val_accuracy: 0.6500\n",
            "Epoch 17/24\n",
            "18/18 [==============================] - 7s 371ms/step - loss: 0.1707 - accuracy: 0.9282 - val_loss: 0.7362 - val_accuracy: 0.7143\n",
            "Epoch 18/24\n",
            "18/18 [==============================] - 7s 371ms/step - loss: 0.1654 - accuracy: 0.9408 - val_loss: 1.0610 - val_accuracy: 0.6786\n",
            "Epoch 19/24\n",
            "18/18 [==============================] - 7s 378ms/step - loss: 0.1960 - accuracy: 0.9246 - val_loss: 0.9264 - val_accuracy: 0.6929\n",
            "Epoch 20/24\n",
            "18/18 [==============================] - 7s 366ms/step - loss: 0.1795 - accuracy: 0.9354 - val_loss: 0.9178 - val_accuracy: 0.6786\n",
            "Epoch 21/24\n",
            "18/18 [==============================] - 7s 366ms/step - loss: 0.1312 - accuracy: 0.9659 - val_loss: 1.0055 - val_accuracy: 0.6857\n",
            "Epoch 22/24\n",
            "18/18 [==============================] - 7s 374ms/step - loss: 0.1514 - accuracy: 0.9443 - val_loss: 1.0456 - val_accuracy: 0.6714\n",
            "Epoch 23/24\n",
            "18/18 [==============================] - 7s 367ms/step - loss: 0.1754 - accuracy: 0.9192 - val_loss: 0.9683 - val_accuracy: 0.6286\n",
            "Epoch 24/24\n",
            "18/18 [==============================] - 7s 363ms/step - loss: 0.0921 - accuracy: 0.9695 - val_loss: 0.9673 - val_accuracy: 0.6786\n"
          ]
        },
        {
          "data": {
            "text/plain": [
              "<keras.src.callbacks.History at 0x2bd90152510>"
            ]
          },
          "execution_count": 28,
          "metadata": {},
          "output_type": "execute_result"
        }
      ],
      "source": [
        "#Training Data\n",
        "cnn.fit(x=training_set, validation_data=test_set,epochs=24)"
      ]
    },
    {
      "cell_type": "code",
      "execution_count": null,
      "id": "bbdf5af5",
      "metadata": {
        "id": "bbdf5af5",
        "outputId": "7313de09-dc61-4edb-8899-0a157bcb02c9"
      },
      "outputs": [
        {
          "name": "stdout",
          "output_type": "stream",
          "text": [
            "1/1 [==============================] - 0s 48ms/step\n"
          ]
        }
      ],
      "source": [
        "import numpy as np\n",
        "from keras.preprocessing import image\n",
        "test_image=image.load_img(\"E:\\\\PROJECT\\\\dataset_cats&dogs\\\\test\\\\dogs\\\\dog_470.jpg\",target_size=(64,64))\n",
        "test_image=image.img_to_array(test_image)\n",
        "test_image=np.expand_dims(test_image,axis=0)\n",
        "result=cnn.predict(test_image)\n",
        "training_set.class_indices\n",
        "if result[0][0]==1:\n",
        "    prediction='dogs'\n",
        "else :\n",
        "    prediction='cats'"
      ]
    },
    {
      "cell_type": "code",
      "execution_count": null,
      "id": "4feddcb7",
      "metadata": {
        "id": "4feddcb7",
        "outputId": "3280b5a5-1db2-4d25-c8dc-eadc95cc8ba4"
      },
      "outputs": [
        {
          "name": "stdout",
          "output_type": "stream",
          "text": [
            "dogs\n"
          ]
        }
      ],
      "source": [
        "print(prediction)"
      ]
    },
    {
      "cell_type": "code",
      "execution_count": null,
      "id": "0024955a",
      "metadata": {
        "id": "0024955a"
      },
      "outputs": [],
      "source": []
    },
    {
      "cell_type": "code",
      "execution_count": null,
      "id": "b41204e7",
      "metadata": {
        "id": "b41204e7"
      },
      "outputs": [],
      "source": []
    },
    {
      "cell_type": "code",
      "execution_count": null,
      "id": "cc5583ed",
      "metadata": {
        "id": "cc5583ed"
      },
      "outputs": [],
      "source": []
    }
  ],
  "metadata": {
    "kernelspec": {
      "display_name": "Python 3 (ipykernel)",
      "language": "python",
      "name": "python3"
    },
    "language_info": {
      "codemirror_mode": {
        "name": "ipython",
        "version": 3
      },
      "file_extension": ".py",
      "mimetype": "text/x-python",
      "name": "python",
      "nbconvert_exporter": "python",
      "pygments_lexer": "ipython3",
      "version": "3.11.0"
    },
    "colab": {
      "provenance": []
    }
  },
  "nbformat": 4,
  "nbformat_minor": 5
}